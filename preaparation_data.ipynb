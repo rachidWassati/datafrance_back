{
 "cells": [
  {
   "cell_type": "code",
   "execution_count": 2,
   "metadata": {},
   "outputs": [],
   "source": [
    "import pandas as pd\n",
    "df = pd.read_csv('dataset/infos.csv')"
   ]
  },
  {
   "cell_type": "code",
   "execution_count": 3,
   "metadata": {},
   "outputs": [
    {
     "data": {
      "text/plain": [
       "Index(['ville', 'lien', 'Code Insee', 'Région', 'Département',\n",
       "       'Etablissement public de coopération intercommunale (EPCI)',\n",
       "       'Code postal (CP)', 'Nom des habitants', 'Population (2018)',\n",
       "       'Population : rang national (2018)', 'Densité de population (2018)',\n",
       "       'Taux de chômage (2018)', 'Pavillon bleu', 'Ville d'art et d'histoire',\n",
       "       'Ville fleurie', 'Ville internet', 'Superficie (surface)',\n",
       "       'Altitude min.', 'Altitude max.', 'Latitude', 'Longitude'],\n",
       "      dtype='object')"
      ]
     },
     "execution_count": 3,
     "metadata": {},
     "output_type": "execute_result"
    }
   ],
   "source": [
    "df.columns"
   ]
  },
  {
   "cell_type": "code",
   "execution_count": 4,
   "metadata": {},
   "outputs": [],
   "source": [
    "df.to_json('dataset/infos.json', orient= 'records')"
   ]
  },
  {
   "cell_type": "code",
   "execution_count": null,
   "metadata": {},
   "outputs": [],
   "source": []
  }
 ],
 "metadata": {
  "kernelspec": {
   "display_name": "Python 3.7.13 ('wassatienv')",
   "language": "python",
   "name": "python3"
  },
  "language_info": {
   "codemirror_mode": {
    "name": "ipython",
    "version": 3
   },
   "file_extension": ".py",
   "mimetype": "text/x-python",
   "name": "python",
   "nbconvert_exporter": "python",
   "pygments_lexer": "ipython3",
   "version": "3.7.13"
  },
  "orig_nbformat": 4,
  "vscode": {
   "interpreter": {
    "hash": "e7545f0a35f0217346b332f02e74e88d67b7b35b295e45d73c508a6f8cc96eb3"
   }
  }
 },
 "nbformat": 4,
 "nbformat_minor": 2
}
